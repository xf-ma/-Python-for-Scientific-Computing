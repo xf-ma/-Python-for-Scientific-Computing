{
 "cells": [
  {
   "cell_type": "markdown",
   "id": "ec4e9ffd-69ce-42ac-87c2-7ad125dc6d0c",
   "metadata": {},
   "source": [
    "Name: Xiaofeng Ma \\\n",
    "Aalto Student Number: 100315653"
   ]
  },
  {
   "cell_type": "code",
   "execution_count": 22,
   "id": "6b393900-2351-4288-831c-d0c01f2ced35",
   "metadata": {},
   "outputs": [],
   "source": [
    "import numpy as np\n",
    "import pandas as pd"
   ]
  },
  {
   "cell_type": "code",
   "execution_count": 23,
   "id": "5843bf05-bafc-454e-915b-e188a82f25cd",
   "metadata": {},
   "outputs": [
    {
     "name": "stdout",
     "output_type": "stream",
     "text": [
      "49995031.3677746\n",
      "50001595.67481073\n",
      "50003677.61636665\n",
      "50004773.10581965\n",
      "49997036.617159486\n",
      "49996500.87009456\n",
      "49999391.09056739\n",
      "49996083.0618755\n",
      "985 ms ± 110 ms per loop (mean ± std. dev. of 7 runs, 1 loop each)\n"
     ]
    }
   ],
   "source": [
    "%%timeit\n",
    "print(np.random.rand(100_000_000).sum())"
   ]
  },
  {
   "cell_type": "code",
   "execution_count": 24,
   "id": "f42c7936-730d-4938-95a1-da03228c80c6",
   "metadata": {},
   "outputs": [
    {
     "name": "stdout",
     "output_type": "stream",
     "text": [
      "100003000.2283702\n",
      "99999781.00098132\n",
      "99997600.88588957\n",
      "99996431.92105505\n",
      "99996602.17509855\n",
      "99994368.08404912\n",
      "99996861.38970684\n",
      "99999338.34274848\n",
      "1.85 s ± 78.8 ms per loop (mean ± std. dev. of 7 runs, 1 loop each)\n"
     ]
    }
   ],
   "source": [
    "%%timeit\n",
    "print(np.random.rand(200_000_000).sum())\n",
    "# almost twice as long as the last one."
   ]
  },
  {
   "cell_type": "code",
   "execution_count": null,
   "id": "246c8101-72fe-4e4a-94eb-3e06e8fd4877",
   "metadata": {},
   "outputs": [],
   "source": []
  },
  {
   "cell_type": "code",
   "execution_count": 25,
   "id": "680951a4-dde0-4b08-af8e-1e7bae894878",
   "metadata": {},
   "outputs": [],
   "source": [
    "def ravel(row,col,n_rows,n_cols):\n",
    "    idx = n_cols*row+col\n",
    "    return idx"
   ]
  },
  {
   "cell_type": "code",
   "execution_count": 26,
   "id": "432970f2-4068-4c09-bb27-b89bdd59fcb6",
   "metadata": {},
   "outputs": [
    {
     "name": "stdout",
     "output_type": "stream",
     "text": [
      "11\n",
      "19\n",
      "0\n",
      "15\n",
      "69318923\n"
     ]
    }
   ],
   "source": [
    "print(ravel(2, 3, n_rows=4, n_cols=4))\n",
    "print(ravel(2, 3, n_rows=4, n_cols=8))\n",
    "print(ravel(0, 0, n_rows=1, n_cols=1))\n",
    "print(ravel(3, 3, n_rows=4, n_cols=4))\n",
    "print(ravel(3_465, 18_923, n_rows=10_000, n_cols=20_000))"
   ]
  },
  {
   "cell_type": "code",
   "execution_count": 27,
   "id": "9474ef53-50aa-4fff-9413-41956dab4af7",
   "metadata": {},
   "outputs": [
    {
     "name": "stdout",
     "output_type": "stream",
     "text": [
      "4\n",
      "12\n",
      "16\n"
     ]
    }
   ],
   "source": [
    "print(ravel(0, 4, 3, 12))\n",
    "print(ravel(1, 0, 3, 12))\n",
    "print(ravel(1, 4, 3, 12))"
   ]
  },
  {
   "cell_type": "code",
   "execution_count": null,
   "id": "a1ce633a-73fc-4939-9d70-c92b7fb48b2a",
   "metadata": {},
   "outputs": [],
   "source": []
  },
  {
   "cell_type": "code",
   "execution_count": 28,
   "id": "91fa3214-4bbb-4928-898a-a857cfabb3f0",
   "metadata": {},
   "outputs": [
    {
     "data": {
      "text/plain": [
       "(40, 8)"
      ]
     },
     "execution_count": 28,
     "metadata": {},
     "output_type": "execute_result"
    }
   ],
   "source": [
    "np.zeros((3, 5)).strides"
   ]
  },
  {
   "cell_type": "code",
   "execution_count": 29,
   "id": "3166dc36-6e8d-498f-8d68-3babec604770",
   "metadata": {},
   "outputs": [
    {
     "name": "stdout",
     "output_type": "stream",
     "text": [
      "(80, 8)\n",
      "(800, 8)\n"
     ]
    }
   ],
   "source": [
    "a = np.random.rand(20, 10)\n",
    "print(a.strides)\n",
    "print(a.reshape(2,-1).strides)"
   ]
  },
  {
   "cell_type": "code",
   "execution_count": null,
   "id": "de76b014-ea9c-4bf1-b7ab-e40163d1b706",
   "metadata": {},
   "outputs": [],
   "source": []
  },
  {
   "cell_type": "code",
   "execution_count": 30,
   "id": "5a7e9e29-649e-40b2-84bd-806d055b34c4",
   "metadata": {},
   "outputs": [
    {
     "name": "stdout",
     "output_type": "stream",
     "text": [
      "None\n",
      "[[0. 0. 0. 0. 0.]\n",
      " [0. 0. 0. 0. 0.]\n",
      " [0. 0. 0. 0. 0.]\n",
      " [0. 0. 0. 0. 0.]\n",
      " [0. 0. 0. 0. 0.]]\n",
      "(5, 5)\n",
      "[[0. 0. 0. 0. 0.]\n",
      " [0. 0. 0. 0. 0.]\n",
      " [0. 0. 0. 0. 0.]\n",
      " [0. 0. 0. 0. 0.]\n",
      " [0. 0. 0. 0. 0.]]\n",
      "[[0. 0.]\n",
      " [0. 0.]]\n"
     ]
    }
   ],
   "source": [
    "a = np.zeros((5, 5))\n",
    "print(a.base)  # None\n",
    "print(a)\n",
    "b = a[:2, :2]\n",
    "print(b.base.shape)  # (5, 5)\n",
    "print(b.base)\n",
    "print(b)"
   ]
  },
  {
   "cell_type": "code",
   "execution_count": 31,
   "id": "e9257529-0baf-4d8e-9a1a-8a13f9bd2e70",
   "metadata": {},
   "outputs": [
    {
     "name": "stdout",
     "output_type": "stream",
     "text": [
      "[[1. 0. 0. 0. 0.]\n",
      " [0. 0. 0. 0. 0.]\n",
      " [0. 0. 0. 0. 0.]\n",
      " [0. 0. 0. 0. 0.]\n",
      " [0. 0. 0. 0. 0.]]\n",
      "[[1. 0.]\n",
      " [0. 0.]]\n"
     ]
    }
   ],
   "source": [
    "b[0, 0] = 1.\n",
    "print(a)  # Original matrix was modified\n",
    "print(b)"
   ]
  },
  {
   "cell_type": "code",
   "execution_count": 32,
   "id": "0f08b01a-1328-489f-9b52-b995d89d7e18",
   "metadata": {},
   "outputs": [
    {
     "name": "stdout",
     "output_type": "stream",
     "text": [
      "[[1. 1. 0. 0. 0.]\n",
      " [0. 0. 0. 0. 0.]\n",
      " [0. 0. 0. 0. 0.]\n",
      " [0. 0. 0. 0. 0.]\n",
      " [0. 0. 0. 0. 0.]]\n",
      "[[1. 1.]\n",
      " [0. 0.]]\n"
     ]
    }
   ],
   "source": [
    "# what happens to b if we change a:\n",
    "a[0, 1] = 1.\n",
    "print(a)\n",
    "print(b)\n",
    "# The element at [0,1] of b also changed."
   ]
  },
  {
   "cell_type": "code",
   "execution_count": 33,
   "id": "2a3bf22b-2b72-43cd-bfbf-3980e02fd85b",
   "metadata": {},
   "outputs": [
    {
     "name": "stdout",
     "output_type": "stream",
     "text": [
      "None\n"
     ]
    }
   ],
   "source": [
    "c = a[[0, 2]]  # Select rows 0 and 2\n",
    "print(c.base)  # None. So not a view."
   ]
  },
  {
   "cell_type": "code",
   "execution_count": 34,
   "id": "07519db5-8b17-4038-bb30-ad507ef5b9f6",
   "metadata": {},
   "outputs": [
    {
     "name": "stdout",
     "output_type": "stream",
     "text": [
      "None\n"
     ]
    }
   ],
   "source": [
    "d = a[0, 2]\n",
    "print(d.base)"
   ]
  },
  {
   "cell_type": "code",
   "execution_count": 35,
   "id": "7af78c05-3074-4b78-b1a2-ddf28d5539e4",
   "metadata": {},
   "outputs": [
    {
     "name": "stdout",
     "output_type": "stream",
     "text": [
      "[[1. 1.]\n",
      " [0. 0.]]\n",
      "None\n",
      "[[1. 1.]\n",
      " [0. 0.]]\n",
      "[[1. 1. 0. 0. 0.]\n",
      " [0. 0. 0. 0. 0.]\n",
      " [0. 0. 0. 0. 0.]\n",
      " [0. 0. 0. 0. 0.]\n",
      " [0. 0. 0. 0. 0.]]\n",
      "(5, 5)\n"
     ]
    }
   ],
   "source": [
    "import copy\n",
    "e = copy.copy(a[:2, :2])\n",
    "\n",
    "# copy\n",
    "print(e)\n",
    "print(e.base)\n",
    "\n",
    "# view\n",
    "print(b)\n",
    "print(b.base)\n",
    "print(b.base.shape)  # (5, 5)\n"
   ]
  },
  {
   "cell_type": "code",
   "execution_count": 36,
   "id": "14be3934-b058-4abb-b953-ffe5216fc480",
   "metadata": {},
   "outputs": [
    {
     "name": "stdout",
     "output_type": "stream",
     "text": [
      "[[2. 2. 1. 1. 1.]\n",
      " [1. 1. 1. 1. 1.]\n",
      " [1. 1. 1. 1. 1.]\n",
      " [1. 1. 1. 1. 1.]\n",
      " [1. 1. 1. 1. 1.]]\n",
      "None\n"
     ]
    }
   ],
   "source": [
    "f = a + 1\n",
    "print(f)\n",
    "print(f.base)"
   ]
  },
  {
   "attachments": {},
   "cell_type": "markdown",
   "id": "43c8200d-7695-4493-b293-a4e93a43d005",
   "metadata": {},
   "source": [
    "I finally understood the reason why we can't directly assign arrays with \"=\" in python sometimes. I've encountered strange phenomena before because of this. Matlab doesn't have such problems, so I thought python was so strange at the time."
   ]
  },
  {
   "cell_type": "code",
   "execution_count": null,
   "id": "29160eb4-57dd-4482-84c6-3fe714a45e9a",
   "metadata": {},
   "outputs": [],
   "source": []
  },
  {
   "cell_type": "code",
   "execution_count": null,
   "id": "ecedcc77-d985-49c5-b7b5-3f81ed1239c1",
   "metadata": {},
   "outputs": [],
   "source": []
  },
  {
   "cell_type": "code",
   "execution_count": 37,
   "id": "01cf6353-a881-4f3f-a551-38df1dd441f3",
   "metadata": {},
   "outputs": [],
   "source": [
    "runners = pd.DataFrame([\n",
    "              {'Runner': 'Runner 1', 400: 64, 800: 128, 1200: 192, 1500: 240},\n",
    "              {'Runner': 'Runner 2', 400: 80, 800: 160, 1200: 240, 1500: 300},\n",
    "              {'Runner': 'Runner 3', 400: 96, 800: 192, 1200: 288, 1500: 360},\n",
    "          ])"
   ]
  },
  {
   "cell_type": "code",
   "execution_count": 38,
   "id": "4e85cb51-1c75-4276-9e7a-aa253263820d",
   "metadata": {},
   "outputs": [
    {
     "data": {
      "text/html": [
       "<div>\n",
       "<style scoped>\n",
       "    .dataframe tbody tr th:only-of-type {\n",
       "        vertical-align: middle;\n",
       "    }\n",
       "\n",
       "    .dataframe tbody tr th {\n",
       "        vertical-align: top;\n",
       "    }\n",
       "\n",
       "    .dataframe thead th {\n",
       "        text-align: right;\n",
       "    }\n",
       "</style>\n",
       "<table border=\"1\" class=\"dataframe\">\n",
       "  <thead>\n",
       "    <tr style=\"text-align: right;\">\n",
       "      <th></th>\n",
       "      <th>Runner</th>\n",
       "      <th>400</th>\n",
       "      <th>800</th>\n",
       "      <th>1200</th>\n",
       "      <th>1500</th>\n",
       "    </tr>\n",
       "  </thead>\n",
       "  <tbody>\n",
       "    <tr>\n",
       "      <th>0</th>\n",
       "      <td>Runner 1</td>\n",
       "      <td>64</td>\n",
       "      <td>128</td>\n",
       "      <td>192</td>\n",
       "      <td>240</td>\n",
       "    </tr>\n",
       "    <tr>\n",
       "      <th>1</th>\n",
       "      <td>Runner 2</td>\n",
       "      <td>80</td>\n",
       "      <td>160</td>\n",
       "      <td>240</td>\n",
       "      <td>300</td>\n",
       "    </tr>\n",
       "    <tr>\n",
       "      <th>2</th>\n",
       "      <td>Runner 3</td>\n",
       "      <td>96</td>\n",
       "      <td>192</td>\n",
       "      <td>288</td>\n",
       "      <td>360</td>\n",
       "    </tr>\n",
       "  </tbody>\n",
       "</table>\n",
       "</div>"
      ],
      "text/plain": [
       "     Runner  400  800  1200  1500\n",
       "0  Runner 1   64  128   192   240\n",
       "1  Runner 2   80  160   240   300\n",
       "2  Runner 3   96  192   288   360"
      ]
     },
     "execution_count": 38,
     "metadata": {},
     "output_type": "execute_result"
    }
   ],
   "source": [
    "runners"
   ]
  },
  {
   "cell_type": "code",
   "execution_count": 39,
   "id": "050de276-cefd-4bee-a9cc-6bbd72d464cb",
   "metadata": {},
   "outputs": [
    {
     "data": {
      "text/html": [
       "<div>\n",
       "<style scoped>\n",
       "    .dataframe tbody tr th:only-of-type {\n",
       "        vertical-align: middle;\n",
       "    }\n",
       "\n",
       "    .dataframe tbody tr th {\n",
       "        vertical-align: top;\n",
       "    }\n",
       "\n",
       "    .dataframe thead th {\n",
       "        text-align: right;\n",
       "    }\n",
       "</style>\n",
       "<table border=\"1\" class=\"dataframe\">\n",
       "  <thead>\n",
       "    <tr style=\"text-align: right;\">\n",
       "      <th></th>\n",
       "      <th>Runner</th>\n",
       "      <th>400</th>\n",
       "      <th>800</th>\n",
       "      <th>1200</th>\n",
       "      <th>1500</th>\n",
       "    </tr>\n",
       "  </thead>\n",
       "  <tbody>\n",
       "    <tr>\n",
       "      <th>2</th>\n",
       "      <td>Runner 3</td>\n",
       "      <td>96</td>\n",
       "      <td>192</td>\n",
       "      <td>288</td>\n",
       "      <td>360</td>\n",
       "    </tr>\n",
       "  </tbody>\n",
       "</table>\n",
       "</div>"
      ],
      "text/plain": [
       "     Runner  400  800  1200  1500\n",
       "2  Runner 3   96  192   288   360"
      ]
     },
     "execution_count": 39,
     "metadata": {},
     "output_type": "execute_result"
    }
   ],
   "source": [
    "runners[runners[400] > runners[400].mean()]"
   ]
  },
  {
   "cell_type": "code",
   "execution_count": 40,
   "id": "e3010776-aa53-463b-b20f-b88a1807ea8c",
   "metadata": {},
   "outputs": [
    {
     "data": {
      "text/plain": [
       "192.0"
      ]
     },
     "execution_count": 40,
     "metadata": {},
     "output_type": "execute_result"
    }
   ],
   "source": [
    "runners[runners[400] > runners[400].mean()][800].mean()"
   ]
  },
  {
   "cell_type": "code",
   "execution_count": 41,
   "id": "f2a27476-26f1-4f8d-a6b3-c06bc9fcab0b",
   "metadata": {},
   "outputs": [],
   "source": [
    "runners1 = pd.melt(runners, id_vars=\"Runner\",\n",
    "              value_vars=[400, 800, 1200, 1500],\n",
    "              var_name=\"distance\",\n",
    "              value_name=\"time\"\n",
    "          )"
   ]
  },
  {
   "cell_type": "code",
   "execution_count": 42,
   "id": "ce946cc7-43fe-4224-9c79-4699cc97d2ad",
   "metadata": {},
   "outputs": [
    {
     "data": {
      "text/html": [
       "<div>\n",
       "<style scoped>\n",
       "    .dataframe tbody tr th:only-of-type {\n",
       "        vertical-align: middle;\n",
       "    }\n",
       "\n",
       "    .dataframe tbody tr th {\n",
       "        vertical-align: top;\n",
       "    }\n",
       "\n",
       "    .dataframe thead th {\n",
       "        text-align: right;\n",
       "    }\n",
       "</style>\n",
       "<table border=\"1\" class=\"dataframe\">\n",
       "  <thead>\n",
       "    <tr style=\"text-align: right;\">\n",
       "      <th></th>\n",
       "      <th>Runner</th>\n",
       "      <th>distance</th>\n",
       "      <th>time</th>\n",
       "    </tr>\n",
       "  </thead>\n",
       "  <tbody>\n",
       "    <tr>\n",
       "      <th>0</th>\n",
       "      <td>Runner 1</td>\n",
       "      <td>400</td>\n",
       "      <td>64</td>\n",
       "    </tr>\n",
       "    <tr>\n",
       "      <th>1</th>\n",
       "      <td>Runner 2</td>\n",
       "      <td>400</td>\n",
       "      <td>80</td>\n",
       "    </tr>\n",
       "    <tr>\n",
       "      <th>2</th>\n",
       "      <td>Runner 3</td>\n",
       "      <td>400</td>\n",
       "      <td>96</td>\n",
       "    </tr>\n",
       "    <tr>\n",
       "      <th>3</th>\n",
       "      <td>Runner 1</td>\n",
       "      <td>800</td>\n",
       "      <td>128</td>\n",
       "    </tr>\n",
       "    <tr>\n",
       "      <th>4</th>\n",
       "      <td>Runner 2</td>\n",
       "      <td>800</td>\n",
       "      <td>160</td>\n",
       "    </tr>\n",
       "    <tr>\n",
       "      <th>5</th>\n",
       "      <td>Runner 3</td>\n",
       "      <td>800</td>\n",
       "      <td>192</td>\n",
       "    </tr>\n",
       "    <tr>\n",
       "      <th>6</th>\n",
       "      <td>Runner 1</td>\n",
       "      <td>1200</td>\n",
       "      <td>192</td>\n",
       "    </tr>\n",
       "    <tr>\n",
       "      <th>7</th>\n",
       "      <td>Runner 2</td>\n",
       "      <td>1200</td>\n",
       "      <td>240</td>\n",
       "    </tr>\n",
       "    <tr>\n",
       "      <th>8</th>\n",
       "      <td>Runner 3</td>\n",
       "      <td>1200</td>\n",
       "      <td>288</td>\n",
       "    </tr>\n",
       "    <tr>\n",
       "      <th>9</th>\n",
       "      <td>Runner 1</td>\n",
       "      <td>1500</td>\n",
       "      <td>240</td>\n",
       "    </tr>\n",
       "    <tr>\n",
       "      <th>10</th>\n",
       "      <td>Runner 2</td>\n",
       "      <td>1500</td>\n",
       "      <td>300</td>\n",
       "    </tr>\n",
       "    <tr>\n",
       "      <th>11</th>\n",
       "      <td>Runner 3</td>\n",
       "      <td>1500</td>\n",
       "      <td>360</td>\n",
       "    </tr>\n",
       "  </tbody>\n",
       "</table>\n",
       "</div>"
      ],
      "text/plain": [
       "      Runner distance  time\n",
       "0   Runner 1      400    64\n",
       "1   Runner 2      400    80\n",
       "2   Runner 3      400    96\n",
       "3   Runner 1      800   128\n",
       "4   Runner 2      800   160\n",
       "5   Runner 3      800   192\n",
       "6   Runner 1     1200   192\n",
       "7   Runner 2     1200   240\n",
       "8   Runner 3     1200   288\n",
       "9   Runner 1     1500   240\n",
       "10  Runner 2     1500   300\n",
       "11  Runner 3     1500   360"
      ]
     },
     "execution_count": 42,
     "metadata": {},
     "output_type": "execute_result"
    }
   ],
   "source": [
    "runners1"
   ]
  }
 ],
 "metadata": {
  "kernelspec": {
   "display_name": "Python 3",
   "language": "python",
   "name": "python3"
  },
  "language_info": {
   "codemirror_mode": {
    "name": "ipython",
    "version": 3
   },
   "file_extension": ".py",
   "mimetype": "text/x-python",
   "name": "python",
   "nbconvert_exporter": "python",
   "pygments_lexer": "ipython3",
   "version": "3.10.4"
  },
  "vscode": {
   "interpreter": {
    "hash": "62df668627298f1dbac46f370658304382ff3b13bc25b0dd70dc96d9490e75a4"
   }
  }
 },
 "nbformat": 4,
 "nbformat_minor": 5
}
